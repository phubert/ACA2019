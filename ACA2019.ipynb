{
 "cells": [
  {
   "cell_type": "markdown",
   "metadata": {},
   "source": [
    "# ACA 2019\n",
    "\n",
    "# Find the discriminant of a polynomial using symmetric functions"
   ]
  },
  {
   "cell_type": "markdown",
   "metadata": {},
   "source": [
    "Reference about [discriminant](https://fr.wikipedia.org/wiki/Discriminant)."
   ]
  },
  {
   "cell_type": "code",
   "execution_count": null,
   "metadata": {},
   "outputs": [],
   "source": [
    "%display latex"
   ]
  },
  {
   "cell_type": "markdown",
   "metadata": {},
   "source": [
    "## Exercise\n",
    "\n",
    "Let $f$ by a monic polynomial on $z$ and $x_0, x_1, \\dots, x_{n-1}$ its roots. Then we have $$f(z) = (z-x_0)(z-x_1)\\dots (z-x_{n-1}).$$\n",
    "\n",
    "Our goal is to find the discriminant of $f$ for $n=2$ and $n=3$ using symmetric functions. "
   ]
  },
  {
   "cell_type": "markdown",
   "metadata": {},
   "source": [
    "### Part 1 :  $n=2$"
   ]
  },
  {
   "cell_type": "code",
   "execution_count": null,
   "metadata": {},
   "outputs": [],
   "source": [
    "n = 2"
   ]
  },
  {
   "cell_type": "code",
   "execution_count": null,
   "metadata": {},
   "outputs": [],
   "source": [
    "F = FractionField(QQ['z'])\n",
    "F.inject_variables()\n",
    "R = PolynomialRing(F,'x',n)\n",
    "R.inject_variables()\n",
    "x = R.gens()"
   ]
  },
  {
   "cell_type": "markdown",
   "metadata": {},
   "source": [
    "We can now define the polynomial $f$ with the indeterminates $z, x_0$ and $x_1$. "
   ]
  },
  {
   "cell_type": "code",
   "execution_count": null,
   "metadata": {
    "scrolled": true
   },
   "outputs": [],
   "source": [
    "f = prod((z-x[i]) for i in range(0,n))\n",
    "f"
   ]
  },
  {
   "cell_type": "markdown",
   "metadata": {},
   "source": [
    "Remark that $f$ is symmetric w.r.t the variables $x_0$ and $x_1$. Then [the fundamental theorem of symmetric polynomials](https://en.wikipedia.org/wiki/Elementary_symmetric_polynomial#Fundamental_theorem_of_symmetric_polynomials) tells us that we can express $f$ in terms of elementary symmetric polynomials. "
   ]
  },
  {
   "cell_type": "markdown",
   "metadata": {},
   "source": [
    "**Definition:** The elementary symmetric polynomials $e_k$ are defined to be the sum of all monomials of $k$ on different variables. "
   ]
  },
  {
   "cell_type": "code",
   "execution_count": null,
   "metadata": {},
   "outputs": [],
   "source": [
    "e = SymmetricFunctions(FractionField(QQ[z])).e()\n",
    "\n",
    "for k in range(5):\n",
    "    show(e[k].expand(4))"
   ]
  },
  {
   "cell_type": "code",
   "execution_count": null,
   "metadata": {},
   "outputs": [],
   "source": [
    "g = e.from_polynomial(f)\n",
    "g"
   ]
  },
  {
   "cell_type": "markdown",
   "metadata": {},
   "source": [
    "So the coefficients of $f$ in terms of elementary symmetric functions are $a=1$, $b=-e_1$ and $c=e_2$."
   ]
  },
  {
   "cell_type": "code",
   "execution_count": null,
   "metadata": {
    "scrolled": true
   },
   "outputs": [],
   "source": [
    "g.expand(n)"
   ]
  },
  {
   "cell_type": "markdown",
   "metadata": {},
   "source": [
    "**Definition :** The discriminant of $f$ is given by\n",
    "$$\\Delta(f) = \\prod_{i>j} (x_i-x_j)^2$$ \n",
    "where $x_i$ are the roots of $f$. "
   ]
  },
  {
   "cell_type": "markdown",
   "metadata": {},
   "source": [
    "The Vandermonde matrix \n",
    "$$ M = \\begin{bmatrix} \n",
    "1 & 1 & \\dots & 1 \\\\\n",
    "x_0 & x_1 & \\dots & x_{n-1} \\\\ \n",
    "x_0^2 & x_1^2 & \\dots & x_{n-1}^2 \\\\\n",
    "\\vdots & \\vdots & \\ddots & \\vdots \\\\\n",
    "x_0^{n-1} & x_1^{n-1} & \\dots & x_{n-1}^{n-1}  \n",
    "\\end{bmatrix} $$\n",
    "has determinant $\\det M = \\prod_{i>j} (x_i-x_j)$. So $\\Delta(f) = (\\det M)^2$."
   ]
  },
  {
   "cell_type": "code",
   "execution_count": null,
   "metadata": {},
   "outputs": [],
   "source": [
    "M = matrix.vandermonde(x)\n",
    "M"
   ]
  },
  {
   "cell_type": "markdown",
   "metadata": {},
   "source": [
    "Then $\\Delta(f) = \\det(M^2)$ "
   ]
  },
  {
   "cell_type": "code",
   "execution_count": null,
   "metadata": {},
   "outputs": [],
   "source": [
    "(M^2).determinant()"
   ]
  },
  {
   "cell_type": "markdown",
   "metadata": {},
   "source": [
    "**Proposition:** Let $A$ be a $n \\times n $ matrix, then we have $\\det(A^2) = \\det(A)^2 = \\det(A^\\bot)\\det(A)$. \n",
    "\n",
    "We can check that on a random $3 \\times 3$ matrix on $\\mathbb{Q}$. "
   ]
  },
  {
   "cell_type": "code",
   "execution_count": null,
   "metadata": {},
   "outputs": [],
   "source": [
    "A = matrix.random(QQ, 3, algorithm='diagonalizable')\n",
    "(A^2).determinant() == A.transpose().determinant()*A.determinant()"
   ]
  },
  {
   "cell_type": "markdown",
   "metadata": {},
   "source": [
    "In the case of the Vandermonde matrix, we get the following. "
   ]
  },
  {
   "cell_type": "code",
   "execution_count": null,
   "metadata": {},
   "outputs": [],
   "source": [
    "T = M.transpose()*M\n",
    "T"
   ]
  },
  {
   "cell_type": "markdown",
   "metadata": {},
   "source": [
    "We recognize the power sum symmetric polynomials. "
   ]
  },
  {
   "cell_type": "markdown",
   "metadata": {},
   "source": [
    "**Definition:** The power sum symmetric polynomials $p_k$ are defined to be $\\sum_i x_i^k$. "
   ]
  },
  {
   "cell_type": "code",
   "execution_count": null,
   "metadata": {},
   "outputs": [],
   "source": [
    "p = SymmetricFunctions(FractionField(QQ[z])).p()\n",
    "\n",
    "for k in range(4):\n",
    "    show(p[k].expand(3))"
   ]
  },
  {
   "cell_type": "markdown",
   "metadata": {},
   "source": [
    "We express the coefficient of $ T := M^\\bot M$ in terms of pow sum symmetric polynomials. "
   ]
  },
  {
   "cell_type": "code",
   "execution_count": null,
   "metadata": {},
   "outputs": [],
   "source": [
    "P = matrix([[p.from_polynomial(T[i,j]) for j in range(n)] for i in range(n)])\n",
    "P"
   ]
  },
  {
   "cell_type": "markdown",
   "metadata": {},
   "source": [
    "And compute the determinant."
   ]
  },
  {
   "cell_type": "code",
   "execution_count": null,
   "metadata": {},
   "outputs": [],
   "source": [
    "P.determinant()"
   ]
  },
  {
   "cell_type": "markdown",
   "metadata": {},
   "source": [
    "Finally, we express the result in terms of elementary symmetric polynomials and find the discriminant of $f$."
   ]
  },
  {
   "cell_type": "code",
   "execution_count": null,
   "metadata": {},
   "outputs": [],
   "source": [
    "e(P.determinant())"
   ]
  },
  {
   "cell_type": "markdown",
   "metadata": {},
   "source": [
    "Remember that $a=1$, $b=e_1$ and $c=e_2$. As expected we obtain that $\\Delta = b^2 - ac$. "
   ]
  },
  {
   "cell_type": "markdown",
   "metadata": {},
   "source": [
    "### Part 2 : $n=3$"
   ]
  },
  {
   "cell_type": "markdown",
   "metadata": {},
   "source": [
    "Remember that the discriminant of $x^3+bx^2+cx+d$ is $$b^2c^2+18bcd-4c^3-4b^3d-27d^2$$"
   ]
  },
  {
   "cell_type": "code",
   "execution_count": null,
   "metadata": {},
   "outputs": [],
   "source": [
    "var('b,c,d')\n",
    "D = b^2*c^2+18*b*c*d-4*c^3-4*b^3*d-27*d^2\n",
    "show(D)\n",
    "D = D.substitute({b:e[1].expand(n), c:e[2].expand(n), d:e[3].expand(n)})\n",
    "e.from_polynomial(R((D)))"
   ]
  }
 ],
 "metadata": {
  "kernelspec": {
   "display_name": "SageMath 8.7",
   "language": "",
   "name": "sagemath"
  },
  "language_info": {
   "codemirror_mode": {
    "name": "ipython",
    "version": 2
   },
   "file_extension": ".py",
   "mimetype": "text/x-python",
   "name": "python",
   "nbconvert_exporter": "python",
   "pygments_lexer": "ipython2",
   "version": "2.7.15"
  }
 },
 "nbformat": 4,
 "nbformat_minor": 2
}
