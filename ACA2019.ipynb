{
 "cells": [
  {
   "cell_type": "markdown",
   "metadata": {},
   "source": [
    "# ACA 2019\n",
    "\n",
    "# Find the discriminant of a polynomial using symmetric functions"
   ]
  },
  {
   "cell_type": "markdown",
   "metadata": {},
   "source": [
    "Reference about [discriminant](https://fr.wikipedia.org/wiki/Discriminant)."
   ]
  },
  {
   "cell_type": "code",
   "execution_count": 1,
   "metadata": {},
   "outputs": [],
   "source": [
    "%display latex"
   ]
  },
  {
   "cell_type": "markdown",
   "metadata": {},
   "source": [
    "## Exercise\n",
    "\n",
    "Let $f$ by a monic polynomial on $z$ and $x_0, x_1, \\dots, x_{n-1}$ its roots. Then we have $$f(z) = (z-x_0)(z-x_1)\\dots (z-x_{n-1}).$$\n",
    "\n",
    "Our goal is to find the discriminant of $f$ for $n=2$ and $n=3$ using symmetric functions. "
   ]
  },
  {
   "cell_type": "markdown",
   "metadata": {},
   "source": [
    "### Part 1 :  $n=2$"
   ]
  },
  {
   "cell_type": "code",
   "execution_count": 2,
   "metadata": {},
   "outputs": [],
   "source": [
    "n = 2"
   ]
  },
  {
   "cell_type": "code",
   "execution_count": 3,
   "metadata": {},
   "outputs": [
    {
     "name": "stdout",
     "output_type": "stream",
     "text": [
      "Defining z\n",
      "Defining x0, x1\n"
     ]
    }
   ],
   "source": [
    "F = FractionField(QQ['z'])\n",
    "F.inject_variables()\n",
    "R = PolynomialRing(F,'x',n)\n",
    "R.inject_variables()\n",
    "x = R.gens()"
   ]
  },
  {
   "cell_type": "markdown",
   "metadata": {},
   "source": [
    "We can now define the polynomial $f$ with the indeterminates $z, x_0$ and $x_1$. "
   ]
  },
  {
   "cell_type": "code",
   "execution_count": 22,
   "metadata": {
    "scrolled": true
   },
   "outputs": [
    {
     "data": {
      "text/html": [
       "<html><script type=\"math/tex; mode=display\">\\newcommand{\\Bold}[1]{\\mathbf{#1}}x_{0} x_{1} + \\left(-z\\right) x_{0} + \\left(-z\\right) x_{1} + z^{2}</script></html>"
      ],
      "text/plain": [
       "x0*x1 + (-z)*x0 + (-z)*x1 + z^2"
      ]
     },
     "execution_count": 22,
     "metadata": {},
     "output_type": "execute_result"
    }
   ],
   "source": [
    "f = prod((z-x[i]) for i in range(0,n))\n",
    "f"
   ]
  },
  {
   "cell_type": "markdown",
   "metadata": {},
   "source": [
    "Remark that $f$ is symmetric w.r.t the variables $x_0$ and $x_1$. Then [the fundamental theorem of symmetric polynomials](https://en.wikipedia.org/wiki/Elementary_symmetric_polynomial#Fundamental_theorem_of_symmetric_polynomials) tells us that we can express $f$ in terms of elementary symmetric polynomials. "
   ]
  },
  {
   "cell_type": "markdown",
   "metadata": {},
   "source": [
    "**Definition:** The elementary symmetric polynomials $e_k$ are defined to be the sum of all monomials of $k$ different variables. "
   ]
  },
  {
   "cell_type": "code",
   "execution_count": 5,
   "metadata": {},
   "outputs": [
    {
     "data": {
      "text/html": [
       "<html><script type=\"math/tex; mode=display\">\\newcommand{\\Bold}[1]{\\mathbf{#1}}\\verb|Symmetric|\\phantom{\\verb!x!}\\verb|Functions|\\phantom{\\verb!x!}\\verb|over|\\phantom{\\verb!x!}\\verb|Fraction|\\phantom{\\verb!x!}\\verb|Field|\\phantom{\\verb!x!}\\verb|of|\\phantom{\\verb!x!}\\verb|Univariate|\\phantom{\\verb!x!}\\verb|Polynomial|\\phantom{\\verb!x!}\\verb|Ring|\\phantom{\\verb!x!}\\verb|in|\\phantom{\\verb!x!}\\verb|z|\\phantom{\\verb!x!}\\verb|over|\\phantom{\\verb!x!}\\verb|Rational|\\phantom{\\verb!x!}\\verb|Field|\\phantom{\\verb!x!}\\verb|in|\\phantom{\\verb!x!}\\verb|the|\\phantom{\\verb!x!}\\verb|elementary|\\phantom{\\verb!x!}\\verb|basis|</script></html>"
      ],
      "text/plain": [
       "Symmetric Functions over Fraction Field of Univariate Polynomial Ring in z over Rational Field in the elementary basis"
      ]
     },
     "execution_count": 5,
     "metadata": {},
     "output_type": "execute_result"
    }
   ],
   "source": [
    "e = SymmetricFunctions(FractionField(QQ[z])).e()\n",
    "e"
   ]
  },
  {
   "cell_type": "code",
   "execution_count": 6,
   "metadata": {},
   "outputs": [
    {
     "data": {
      "text/html": [
       "<html><script type=\"math/tex; mode=display\">\\newcommand{\\Bold}[1]{\\mathbf{#1}}1</script></html>"
      ],
      "text/plain": [
       "1"
      ]
     },
     "metadata": {},
     "output_type": "display_data"
    },
    {
     "data": {
      "text/html": [
       "<html><script type=\"math/tex; mode=display\">\\newcommand{\\Bold}[1]{\\mathbf{#1}}x_{0} + x_{1} + x_{2} + x_{3}</script></html>"
      ],
      "text/plain": [
       "x0 + x1 + x2 + x3"
      ]
     },
     "metadata": {},
     "output_type": "display_data"
    },
    {
     "data": {
      "text/html": [
       "<html><script type=\"math/tex; mode=display\">\\newcommand{\\Bold}[1]{\\mathbf{#1}}x_{0} x_{1} + x_{0} x_{2} + x_{1} x_{2} + x_{0} x_{3} + x_{1} x_{3} + x_{2} x_{3}</script></html>"
      ],
      "text/plain": [
       "x0*x1 + x0*x2 + x1*x2 + x0*x3 + x1*x3 + x2*x3"
      ]
     },
     "metadata": {},
     "output_type": "display_data"
    },
    {
     "data": {
      "text/html": [
       "<html><script type=\"math/tex; mode=display\">\\newcommand{\\Bold}[1]{\\mathbf{#1}}x_{0} x_{1} x_{2} + x_{0} x_{1} x_{3} + x_{0} x_{2} x_{3} + x_{1} x_{2} x_{3}</script></html>"
      ],
      "text/plain": [
       "x0*x1*x2 + x0*x1*x3 + x0*x2*x3 + x1*x2*x3"
      ]
     },
     "metadata": {},
     "output_type": "display_data"
    },
    {
     "data": {
      "text/html": [
       "<html><script type=\"math/tex; mode=display\">\\newcommand{\\Bold}[1]{\\mathbf{#1}}x_{0} x_{1} x_{2} x_{3}</script></html>"
      ],
      "text/plain": [
       "x0*x1*x2*x3"
      ]
     },
     "metadata": {},
     "output_type": "display_data"
    }
   ],
   "source": [
    "for k in range(5):\n",
    "    show(e[k].expand(4))"
   ]
  },
  {
   "cell_type": "code",
   "execution_count": 7,
   "metadata": {},
   "outputs": [
    {
     "data": {
      "text/html": [
       "<html><script type=\"math/tex; mode=display\">\\newcommand{\\Bold}[1]{\\mathbf{#1}}z^{2}e_{} - ze_{1} + e_{2}</script></html>"
      ],
      "text/plain": [
       "z^2*e[] - z*e[1] + e[2]"
      ]
     },
     "execution_count": 7,
     "metadata": {},
     "output_type": "execute_result"
    }
   ],
   "source": [
    "g = e.from_polynomial(f)\n",
    "g"
   ]
  },
  {
   "cell_type": "markdown",
   "metadata": {},
   "source": [
    "So the coefficients of $f$ in terms of elementary symmetric functions are $a=1$, $b=-e_1$ and $c=e_2$."
   ]
  },
  {
   "cell_type": "code",
   "execution_count": 8,
   "metadata": {
    "scrolled": true
   },
   "outputs": [
    {
     "data": {
      "text/html": [
       "<html><script type=\"math/tex; mode=display\">\\newcommand{\\Bold}[1]{\\mathbf{#1}}x_{0} x_{1} + x_{0} x_{2} + x_{1} x_{2} + \\left(-z\\right) x_{0} + \\left(-z\\right) x_{1} + \\left(-z\\right) x_{2} + z^{2}</script></html>"
      ],
      "text/plain": [
       "x0*x1 + x0*x2 + x1*x2 + (-z)*x0 + (-z)*x1 + (-z)*x2 + z^2"
      ]
     },
     "execution_count": 8,
     "metadata": {},
     "output_type": "execute_result"
    }
   ],
   "source": [
    "g.expand(3)"
   ]
  },
  {
   "cell_type": "markdown",
   "metadata": {},
   "source": [
    "**Definition :** The discriminant of $f$ is given by\n",
    "$$\\Delta(f) = \\prod_{i>j} (x_i-x_j)^2$$ \n",
    "where $x_i$ are the roots of $f$. \n",
    "\n",
    "For example, in the case $n=2$, we have"
   ]
  },
  {
   "cell_type": "code",
   "execution_count": 27,
   "metadata": {
    "scrolled": true
   },
   "outputs": [
    {
     "data": {
      "text/html": [
       "<html><script type=\"math/tex; mode=display\">\\newcommand{\\Bold}[1]{\\mathbf{#1}}x_{0}^{2} + \\left(-2\\right) x_{0} x_{1} + x_{1}^{2}</script></html>"
      ],
      "text/plain": [
       "x0^2 + (-2)*x0*x1 + x1^2"
      ]
     },
     "execution_count": 27,
     "metadata": {},
     "output_type": "execute_result"
    }
   ],
   "source": [
    "Delta = prod((x[i]-x[j])^2 for i in range(n) for j in range (n) if i>j)\n",
    "Delta"
   ]
  },
  {
   "cell_type": "markdown",
   "metadata": {},
   "source": [
    "The Vandermonde matrix \n",
    "$$ M = \\begin{bmatrix} \n",
    "1 & 1 & \\dots & 1 \\\\\n",
    "x_0 & x_1 & \\dots & x_{n-1} \\\\ \n",
    "x_0^2 & x_1^2 & \\dots & x_{n-1}^2 \\\\\n",
    "\\vdots & \\vdots & \\ddots & \\vdots \\\\\n",
    "x_0^{n-1} & x_1^{n-1} & \\dots & x_{n-1}^{n-1}  \n",
    "\\end{bmatrix} $$\n",
    "has determinant $\\det M = \\prod_{i>j} (x_i-x_j)$. So $\\Delta(f) = (\\det M)^2$."
   ]
  },
  {
   "cell_type": "code",
   "execution_count": 10,
   "metadata": {},
   "outputs": [
    {
     "data": {
      "text/html": [
       "<html><script type=\"math/tex; mode=display\">\\newcommand{\\Bold}[1]{\\mathbf{#1}}\\left(\\begin{array}{rr}\n",
       "1 & x_{0} \\\\\n",
       "1 & x_{1}\n",
       "\\end{array}\\right)</script></html>"
      ],
      "text/plain": [
       "[ 1 x0]\n",
       "[ 1 x1]"
      ]
     },
     "execution_count": 10,
     "metadata": {},
     "output_type": "execute_result"
    }
   ],
   "source": [
    "M = matrix.vandermonde(x)\n",
    "M"
   ]
  },
  {
   "cell_type": "markdown",
   "metadata": {},
   "source": [
    "Then $\\Delta(f) = \\det(M^2)$ "
   ]
  },
  {
   "cell_type": "code",
   "execution_count": 11,
   "metadata": {},
   "outputs": [
    {
     "data": {
      "text/html": [
       "<html><script type=\"math/tex; mode=display\">\\newcommand{\\Bold}[1]{\\mathbf{#1}}x_{0}^{2} + \\left(-2\\right) x_{0} x_{1} + x_{1}^{2}</script></html>"
      ],
      "text/plain": [
       "x0^2 + (-2)*x0*x1 + x1^2"
      ]
     },
     "execution_count": 11,
     "metadata": {},
     "output_type": "execute_result"
    }
   ],
   "source": [
    "(M^2).determinant()"
   ]
  },
  {
   "cell_type": "code",
   "execution_count": 12,
   "metadata": {},
   "outputs": [
    {
     "data": {
      "text/html": [
       "<html><script type=\"math/tex; mode=display\">\\newcommand{\\Bold}[1]{\\mathbf{#1}}\\mathrm{True}</script></html>"
      ],
      "text/plain": [
       "True"
      ]
     },
     "execution_count": 12,
     "metadata": {},
     "output_type": "execute_result"
    }
   ],
   "source": [
    "(M^2).determinant() == Delta"
   ]
  },
  {
   "cell_type": "markdown",
   "metadata": {},
   "source": [
    "**Proposition:** Let $A$ be a $n \\times n $ matrix, then we have $\\det(A^2) = \\det(A)^2 = \\det(A^\\bot)\\det(A)$. \n",
    "\n",
    "We can check that on a random $3 \\times 3$ matrix on $\\mathbb{Q}$. "
   ]
  },
  {
   "cell_type": "code",
   "execution_count": 13,
   "metadata": {},
   "outputs": [
    {
     "data": {
      "text/html": [
       "<html><script type=\"math/tex; mode=display\">\\newcommand{\\Bold}[1]{\\mathbf{#1}}\\mathrm{True}</script></html>"
      ],
      "text/plain": [
       "True"
      ]
     },
     "execution_count": 13,
     "metadata": {},
     "output_type": "execute_result"
    }
   ],
   "source": [
    "A = matrix.random(QQ, 3)\n",
    "(A^2).determinant() == A.transpose().determinant()*A.determinant()"
   ]
  },
  {
   "cell_type": "markdown",
   "metadata": {},
   "source": [
    "In the case of the Vandermonde matrix, we get the following. "
   ]
  },
  {
   "cell_type": "code",
   "execution_count": 24,
   "metadata": {},
   "outputs": [
    {
     "data": {
      "text/html": [
       "<html><script type=\"math/tex; mode=display\">\\newcommand{\\Bold}[1]{\\mathbf{#1}}\\left(\\begin{array}{rr}\n",
       "2 & x_{0} + x_{1} \\\\\n",
       "x_{0} + x_{1} & x_{0}^{2} + x_{1}^{2}\n",
       "\\end{array}\\right)</script></html>"
      ],
      "text/plain": [
       "[          2     x0 + x1]\n",
       "[    x0 + x1 x0^2 + x1^2]"
      ]
     },
     "execution_count": 24,
     "metadata": {},
     "output_type": "execute_result"
    }
   ],
   "source": [
    "T = M.transpose()*M\n",
    "T"
   ]
  },
  {
   "cell_type": "markdown",
   "metadata": {},
   "source": [
    "We recognize the power sum symmetric polynomials. "
   ]
  },
  {
   "cell_type": "markdown",
   "metadata": {},
   "source": [
    "**Definition:** The power sum symmetric polynomials $p_k$ are defined to be $\\sum_i x_i^k$. "
   ]
  },
  {
   "cell_type": "code",
   "execution_count": 15,
   "metadata": {},
   "outputs": [],
   "source": [
    "p = SymmetricFunctions(FractionField(QQ[z])).p()"
   ]
  },
  {
   "cell_type": "code",
   "execution_count": 16,
   "metadata": {},
   "outputs": [
    {
     "data": {
      "text/html": [
       "<html><script type=\"math/tex; mode=display\">\\newcommand{\\Bold}[1]{\\mathbf{#1}}1</script></html>"
      ],
      "text/plain": [
       "1"
      ]
     },
     "metadata": {},
     "output_type": "display_data"
    },
    {
     "data": {
      "text/html": [
       "<html><script type=\"math/tex; mode=display\">\\newcommand{\\Bold}[1]{\\mathbf{#1}}x_{0} + x_{1} + x_{2}</script></html>"
      ],
      "text/plain": [
       "x0 + x1 + x2"
      ]
     },
     "metadata": {},
     "output_type": "display_data"
    },
    {
     "data": {
      "text/html": [
       "<html><script type=\"math/tex; mode=display\">\\newcommand{\\Bold}[1]{\\mathbf{#1}}x_{0}^{2} + x_{1}^{2} + x_{2}^{2}</script></html>"
      ],
      "text/plain": [
       "x0^2 + x1^2 + x2^2"
      ]
     },
     "metadata": {},
     "output_type": "display_data"
    },
    {
     "data": {
      "text/html": [
       "<html><script type=\"math/tex; mode=display\">\\newcommand{\\Bold}[1]{\\mathbf{#1}}x_{0}^{3} + x_{1}^{3} + x_{2}^{3}</script></html>"
      ],
      "text/plain": [
       "x0^3 + x1^3 + x2^3"
      ]
     },
     "metadata": {},
     "output_type": "display_data"
    },
    {
     "data": {
      "text/html": [
       "<html><script type=\"math/tex; mode=display\">\\newcommand{\\Bold}[1]{\\mathbf{#1}}x_{0}^{4} + x_{1}^{4} + x_{2}^{4}</script></html>"
      ],
      "text/plain": [
       "x0^4 + x1^4 + x2^4"
      ]
     },
     "metadata": {},
     "output_type": "display_data"
    }
   ],
   "source": [
    "for k in range(5):\n",
    "    show(p[k].expand(3))"
   ]
  },
  {
   "cell_type": "markdown",
   "metadata": {},
   "source": [
    "We express the coefficient of $ T := M^\\bot M$ in terms of pow sum symmetric polynomials. "
   ]
  },
  {
   "cell_type": "code",
   "execution_count": 25,
   "metadata": {},
   "outputs": [
    {
     "data": {
      "text/html": [
       "<html><script type=\"math/tex; mode=display\">\\newcommand{\\Bold}[1]{\\mathbf{#1}}\\left(\\begin{array}{rr}\n",
       "2p_{} & p_{1} \\\\\n",
       "p_{1} & p_{2}\n",
       "\\end{array}\\right)</script></html>"
      ],
      "text/plain": [
       "[2*p[]  p[1]]\n",
       "[ p[1]  p[2]]"
      ]
     },
     "execution_count": 25,
     "metadata": {},
     "output_type": "execute_result"
    }
   ],
   "source": [
    "P = matrix([[p.from_polynomial(T[i,j]) for j in range(n)] for i in range(n)])\n",
    "P"
   ]
  },
  {
   "cell_type": "markdown",
   "metadata": {},
   "source": [
    "And compute the determinant."
   ]
  },
  {
   "cell_type": "code",
   "execution_count": 18,
   "metadata": {},
   "outputs": [
    {
     "data": {
      "text/html": [
       "<html><script type=\"math/tex; mode=display\">\\newcommand{\\Bold}[1]{\\mathbf{#1}}-p_{1,1} + 2p_{2}</script></html>"
      ],
      "text/plain": [
       "-p[1, 1] + 2*p[2]"
      ]
     },
     "execution_count": 18,
     "metadata": {},
     "output_type": "execute_result"
    }
   ],
   "source": [
    "P.determinant()"
   ]
  },
  {
   "cell_type": "markdown",
   "metadata": {},
   "source": [
    "Finally, we express the result in terms of elementary symmetric polynomials and find the discriminant of $f$."
   ]
  },
  {
   "cell_type": "code",
   "execution_count": 19,
   "metadata": {},
   "outputs": [
    {
     "data": {
      "text/html": [
       "<html><script type=\"math/tex; mode=display\">\\newcommand{\\Bold}[1]{\\mathbf{#1}}e_{1,1} - 4e_{2}</script></html>"
      ],
      "text/plain": [
       "e[1, 1] - 4*e[2]"
      ]
     },
     "execution_count": 19,
     "metadata": {},
     "output_type": "execute_result"
    }
   ],
   "source": [
    "e(P.determinant())"
   ]
  },
  {
   "cell_type": "markdown",
   "metadata": {},
   "source": [
    "Remember that $a=1$, $b=e_1$ and $c=e_2$. As expected we obtain that $\\Delta = b^2 - ac$. "
   ]
  },
  {
   "cell_type": "markdown",
   "metadata": {},
   "source": [
    "### Part 2 : $n=3$"
   ]
  },
  {
   "cell_type": "markdown",
   "metadata": {},
   "source": [
    "Remember that the discriminant of $ax^3+bx^2+cx+d$ is $$a^2b^2+18abc-4b^3-4a^3c-27c^2$$"
   ]
  }
 ],
 "metadata": {
  "kernelspec": {
   "display_name": "SageMath 8.7",
   "language": "",
   "name": "sagemath"
  },
  "language_info": {
   "codemirror_mode": {
    "name": "ipython",
    "version": 2
   },
   "file_extension": ".py",
   "mimetype": "text/x-python",
   "name": "python",
   "nbconvert_exporter": "python",
   "pygments_lexer": "ipython2",
   "version": "2.7.15"
  }
 },
 "nbformat": 4,
 "nbformat_minor": 2
}
